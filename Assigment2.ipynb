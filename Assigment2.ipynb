{
 "cells": [
  {
   "cell_type": "code",
   "execution_count": null,
   "id": "63915264-1eea-4cd4-a306-d45a5f12978d",
   "metadata": {},
   "outputs": [],
   "source": [
    "\"\"\" THEORY WORKSHEET\n",
    "1. What are data structures, and why are they important?\n",
    "\n",
    "ans. Data structures are organized ways to store, manage, and access data. They are essential  for:\n",
    "      * Optimizing data processing and retrieval.\n",
    "      * Enhancing the efficiency of algorithms.\n",
    "      * Structuring data to solve specific problems effectively (e.g., searching, sorting, or managing resources).\n",
    "\n",
    "2. Explain the difference between mutable and immutable data types with examples?\n",
    "\n",
    "ans. Mutable: Data types that can be changed after creation.\n",
    "Example: Lists (list).\n",
    "my_list = [1, 2, 3]\n",
    "my_list.append(4)  # Now my_list is [1, 2, 3, 4]\n",
    "\n",
    "Immutable: Data types that cannot be changed after creation.\n",
    "Example: Strings (str) and Tuples (tuple).\n",
    "my_tuple = (1, 2, 3)\n",
    "# my_tuple[1] = 5  # This will raise an error.\n",
    "\n",
    "3. What are the main differences between lists and tuples in Python?\n",
    "\n",
    "ans. * Mutability: Lists are mutable; tuples are immutable.\n",
    "     * Performance: Tuples are faster than lists due to their immutability.\n",
    "     * Use Case: Lists are used for dynamic collections, while tuples are ideal for fixed, unchangeable data.\n",
    "     \n",
    "4. Describe how dictionaries store data?\n",
    "\n",
    "ans. Dictionaries store data in key-value pairs. The keys act as unique identifiers, while the values contain associated data. \n",
    "     Internally, dictionaries use hash tables for quick lookups.\n",
    "     \n",
    "5. Why might you use a set instead of a list in Python?\n",
    "\n",
    "ans. * To eliminate duplicate elements automatically.\n",
    "     * For efficient membership testing (in operator), as sets have faster lookup times than lists.\n",
    "\n",
    "6. What is a string in Python, and how is it different from a list?\n",
    "\n",
    "ans. String: A sequence of characters, immutable.\n",
    "List: A sequence of elements, mutable. Differences:\n",
    "s = \"hello\"\n",
    "l = ['h', 'e', 'l', 'l', 'o']\n",
    "# Strings can't be modified in place, but lists can:\n",
    "l[0] = 'H'  # Valid\n",
    "s[0] = 'H'  # Raises an error\n",
    "\n",
    "7. How do tuples ensure data integrity in Python?\n",
    "\n",
    "ans. Tuples are immutable, meaning once created, their content cannot be changed. This makes them ideal for:\n",
    "      * Storing data that must remain constant.\n",
    "      * Ensuring data consistency.\n",
    "      \n",
    "8. What is a hash table, and how does it relate to dictionaries in Python?\n",
    "\n",
    "ans. A hash table is a data structure that maps keys to values using a hash function. \n",
    "In Python, dictionaries use hash tables internally to enable constant-time complexity for key lookups, insertions, and deletions.\n",
    "\n",
    "9. Can lists contain different data types in Python?\n",
    "\n",
    "ans. Yes, Python lists can hold multiple data types in the same list:\n",
    "    mixed_list = [1, \"hello\", 3.14, [1, 2, 3]]\n",
    "    \n",
    "10. Explain why strings are immutable in Python?\n",
    "\n",
    "ans. Strings are immutable to:\n",
    "    * Enhance security (e.g., in hashing ).\n",
    "    * Simplify debugging and data sharing across threads.\n",
    "    \n",
    "11. What advantages do dictionaries offer over lists for certain tasks?\n",
    "\n",
    "ans. * Quick lookups by key.\n",
    "     * Clear representation of relationships using key-value pairs.\n",
    "     \n",
    "12. Describe a scenario where using a tuple would be preferable over a list?\n",
    "\n",
    "ans. Tuples are ideal when you need to ensure the data remains unchangeable, such as:\n",
    "      * Returning multiple values from a function.\n",
    "      * Storing coordinates or fixed configurations.\n",
    "      \n",
    "13. How do sets handle duplicate values in Python?\n",
    "\n",
    "ans. Sets automatically discard duplicate values:\n",
    "s = {1, 2, 2, 3}\n",
    "print(s)  # Output: {1, 2, 3}\n",
    "\n",
    "14. How does the “in” keyword work differently for lists and dictionaries?\n",
    "\n",
    "ans. Lists: Checks if a value exists in the sequence.\n",
    "Dictionaries: Checks if a key exists.\n",
    "l = [1, 2, 3]\n",
    "d = {'a': 1, 'b': 2}\n",
    "print(1 in l)  # True\n",
    "print('a' in d)  # True\n",
    "\n",
    "15. Can you modify the elements of a tuple? Explain why or why not?\n",
    "\n",
    "ans. No, because tuples are immutable. Once created, their elements cannot be changed.\n",
    "\n",
    "16. What is a nested dictionary, and give an example of its use case?\n",
    "\n",
    "ans. A nested dictionary contains dictionaries as values.\n",
    "Example:\n",
    "nested_dict = {\"person1\": {\"name\": \"Alice\", \"age\": 25}, \"person2\": {\"name\": \"Bob\", \"age\": 32}}\n",
    "\n",
    "17. Describe the time complexity of accessing elements in a dictionary?\n",
    "\n",
    "ans. Accessing an element in a dictionary has O(1) average time complexity due to the underlying hash table.\n",
    "\n",
    "18. In what situations are lists preferred over dictionaries?\n",
    "\n",
    "ans. Lists are preferred when:\n",
    "     * Order matters.\n",
    "     * Storing a collection of similar items without the need for key-value associations.\n",
    "     \n",
    "19. Why are dictionaries considered unordered, and how does that affect data retrieval?\n",
    "\n",
    "ans.Dictionaries are unordered because their elements are stored based on hash values, not insertion order. \n",
    "\n",
    "20. Explain the difference between a list and a dictionary in terms of data retrieval?\n",
    "\n",
    "ans. List: Retrieval by index.\n",
    "Dictionary: Retrieval by key.\n",
    "l = [10, 20, 30]\n",
    "d = {\"a\": 10, \"b\": 20}\n",
    "print(l[1])  # Access by index\n",
    "print(d[\"b\"])  # Access by key   \"\"\""
   ]
  },
  {
   "cell_type": "code",
   "execution_count": 21,
   "id": "96331102-e633-43ad-843b-5edf690adb3a",
   "metadata": {},
   "outputs": [
    {
     "name": "stdout",
     "output_type": "stream",
     "text": [
      "Your Name\n"
     ]
    }
   ],
   "source": [
    "# PRACTICAL WORKSHEET\n",
    "#1. Write a code to create a string with your name and print itE\n",
    "my_name = \"Your Name\"\n",
    "print(my_name)\n"
   ]
  },
  {
   "cell_type": "code",
   "execution_count": 1,
   "id": "3f89b052-35da-4739-8de6-7fcfbc02fd3f",
   "metadata": {},
   "outputs": [
    {
     "name": "stdout",
     "output_type": "stream",
     "text": [
      "11\n"
     ]
    }
   ],
   "source": [
    "#2. Write a code to find the length of the string \"Hello World\"\n",
    "string = \"Hello World\"\n",
    "print(len(string))\n"
   ]
  },
  {
   "cell_type": "code",
   "execution_count": 3,
   "id": "9c5f95dc-9e8e-4272-8724-dfc50f273cbd",
   "metadata": {},
   "outputs": [
    {
     "name": "stdout",
     "output_type": "stream",
     "text": [
      "Pyt\n"
     ]
    }
   ],
   "source": [
    "#3. Write a code to slice the first 3 characters from the string \"Python Programming\"\n",
    "string = \"Python Programming\"\n",
    "print(string[:3])\n",
    "\n"
   ]
  },
  {
   "cell_type": "code",
   "execution_count": 5,
   "id": "3eed15c6-417d-4561-ba3b-8039f7c99d0a",
   "metadata": {},
   "outputs": [
    {
     "name": "stdout",
     "output_type": "stream",
     "text": [
      "HELLO\n"
     ]
    }
   ],
   "source": [
    "#4. Write a code to convert the string \"hello\" to uppercase\n",
    "string = \"hello\"\n",
    "print(string.upper())\n"
   ]
  },
  {
   "cell_type": "code",
   "execution_count": 7,
   "id": "b9fb8ed6-9498-44c6-b12d-73799f115531",
   "metadata": {},
   "outputs": [
    {
     "name": "stdout",
     "output_type": "stream",
     "text": [
      "I like orange\n"
     ]
    }
   ],
   "source": [
    "#5. Write a code to replace the word \"apple\" with \"orange\" in the string \"I like apple\"\n",
    "string = \"I like apple\"\n",
    "print(string.replace(\"apple\", \"orange\"))\n"
   ]
  },
  {
   "cell_type": "code",
   "execution_count": 9,
   "id": "bbd56e4d-e63e-4c05-9c0f-fb80e24bd15c",
   "metadata": {},
   "outputs": [
    {
     "name": "stdout",
     "output_type": "stream",
     "text": [
      "[1, 2, 3, 4, 5]\n"
     ]
    }
   ],
   "source": [
    "#6. Write a code to create a list with numbers 1 to 5 and print it\n",
    "numbers = [1, 2, 3, 4, 5]\n",
    "print(numbers)\n",
    "\n"
   ]
  },
  {
   "cell_type": "code",
   "execution_count": 13,
   "id": "30027220-cb75-4fd5-9bba-2eef477b06d5",
   "metadata": {},
   "outputs": [
    {
     "name": "stdout",
     "output_type": "stream",
     "text": [
      "[1, 2, 3, 4, 10]\n"
     ]
    }
   ],
   "source": [
    "#7. Write a code to append the number 10 to the list [1, 2, 3, 4]\n",
    "numbers = [1, 2, 3, 4]\n",
    "numbers.append(10)\n",
    "print(numbers)\n"
   ]
  },
  {
   "cell_type": "code",
   "execution_count": 15,
   "id": "84e60423-f255-4cae-8b35-a60d80654311",
   "metadata": {},
   "outputs": [
    {
     "name": "stdout",
     "output_type": "stream",
     "text": [
      "[1, 2, 4, 5]\n"
     ]
    }
   ],
   "source": [
    "#8. Write a code to remove the number 3 from the list [1, 2, 3, 4, 5]\n",
    "numbers = [1, 2, 3, 4, 5]\n",
    "numbers.remove(3)\n",
    "print(numbers)\n",
    "\n"
   ]
  },
  {
   "cell_type": "code",
   "execution_count": 17,
   "id": "4f0f2d3d-025d-45e7-a580-eb907142e701",
   "metadata": {},
   "outputs": [
    {
     "name": "stdout",
     "output_type": "stream",
     "text": [
      "b\n"
     ]
    }
   ],
   "source": [
    "#9. Write a code to access the second element in the list ['a', 'b', 'c', 'd']\n",
    "letters = ['a', 'b', 'c', 'd']\n",
    "print(letters[1])\n"
   ]
  },
  {
   "cell_type": "code",
   "execution_count": 19,
   "id": "cd579f3c-a0e7-4cee-bfeb-6aaaaecc3948",
   "metadata": {},
   "outputs": [
    {
     "name": "stdout",
     "output_type": "stream",
     "text": [
      "[50, 40, 30, 20, 10]\n"
     ]
    }
   ],
   "source": [
    "#10. Write a code to reverse the list [10, 20, 30, 40, 50].\n",
    "numbers = [10, 20, 30, 40, 50]\n",
    "numbers.reverse()\n",
    "print(numbers)\n"
   ]
  },
  {
   "cell_type": "code",
   "execution_count": 53,
   "id": "6595ac52-d369-4c76-995f-b7e72be87485",
   "metadata": {},
   "outputs": [
    {
     "name": "stdout",
     "output_type": "stream",
     "text": [
      "(10, 20, 30)\n"
     ]
    }
   ],
   "source": [
    "#11. Write a code to create a tuple with the elements 10, 20, 30 and print it.\n",
    "my_tuple = (10, 20, 30)\n",
    "print(my_tuple)"
   ]
  },
  {
   "cell_type": "code",
   "execution_count": 25,
   "id": "e025ae3d-7ce1-4b97-a2db-5ecd9caf035f",
   "metadata": {},
   "outputs": [
    {
     "name": "stdout",
     "output_type": "stream",
     "text": [
      "(10, 20, 30)\n"
     ]
    }
   ],
   "source": [
    "#12. Write a code to access the first element of the tuple ('apple', 'banana', 'cherry').\n",
    "my_tuple = (10, 20, 30)\n",
    "print(my_tuple)\n"
   ]
  },
  {
   "cell_type": "code",
   "execution_count": 27,
   "id": "ee33da8e-f737-45d5-9cd4-11f97ac164a2",
   "metadata": {},
   "outputs": [
    {
     "name": "stdout",
     "output_type": "stream",
     "text": [
      "apple\n"
     ]
    }
   ],
   "source": [
    "#13. Write a code to count how many times the number 2 appears in the tuple (1, 2, 3, 2, 4, 2).\n",
    "fruits = ('apple', 'banana', 'cherry')\n",
    "print(fruits[0])\n"
   ]
  },
  {
   "cell_type": "code",
   "execution_count": 31,
   "id": "bb4937c2-a632-4826-9fc1-92d431f25fb5",
   "metadata": {},
   "outputs": [
    {
     "name": "stdout",
     "output_type": "stream",
     "text": [
      "1\n"
     ]
    }
   ],
   "source": [
    "#14. Write a code to find the index of the element \"cat\" in the tuple ('dog', 'cat', 'rabbit').\n",
    "animals = ('dog', 'cat', 'rabbit')\n",
    "print(animals.index('cat'))\n"
   ]
  },
  {
   "cell_type": "code",
   "execution_count": 33,
   "id": "26735626-bdce-410a-974d-cd737167a643",
   "metadata": {},
   "outputs": [
    {
     "name": "stdout",
     "output_type": "stream",
     "text": [
      "True\n"
     ]
    }
   ],
   "source": [
    "#15. Write a code to check if the element \"banana\" is in the tuple ('apple', 'orange', 'banana').\n",
    "fruits = ('apple', 'orange', 'banana')\n",
    "print(\"banana\" in fruits)\n"
   ]
  },
  {
   "cell_type": "code",
   "execution_count": 35,
   "id": "cc6304cf-6f43-4574-b2e7-71d3a8a5f58b",
   "metadata": {},
   "outputs": [
    {
     "name": "stdout",
     "output_type": "stream",
     "text": [
      "{1, 2, 3, 4, 5}\n"
     ]
    }
   ],
   "source": [
    "#16. Write a code to create a set with the elements 1, 2, 3, 4, 5 and print it.\n",
    "my_set = {1, 2, 3, 4, 5}\n",
    "print(my_set)\n"
   ]
  },
  {
   "cell_type": "code",
   "execution_count": 37,
   "id": "2aac25be-d0ef-4689-99da-74fbf266296f",
   "metadata": {},
   "outputs": [
    {
     "name": "stdout",
     "output_type": "stream",
     "text": [
      "{1, 2, 3, 4, 6}\n"
     ]
    }
   ],
   "source": [
    "#17. Write a code to add the element 6 to the set {1, 2, 3, 4}.\n",
    "my_set = {1, 2, 3, 4}\n",
    "my_set.add(6)\n",
    "print(my_set)\n"
   ]
  },
  {
   "cell_type": "code",
   "execution_count": 39,
   "id": "4c665b39-6580-4b51-a922-41a779852a69",
   "metadata": {},
   "outputs": [
    {
     "name": "stdout",
     "output_type": "stream",
     "text": [
      "(10, 20, 30)\n"
     ]
    }
   ],
   "source": [
    "#18. Write a code to create a tuple with the elements 10, 20, 30 and print it.\n",
    "my_tuple = (10, 20, 30)\n",
    "print(my_tuple)\n"
   ]
  },
  {
   "cell_type": "code",
   "execution_count": 41,
   "id": "9c25687a-8fbc-44a4-8172-123b50348fd6",
   "metadata": {},
   "outputs": [
    {
     "name": "stdout",
     "output_type": "stream",
     "text": [
      "apple\n"
     ]
    }
   ],
   "source": [
    "#19. Write a code to access the first element of the tuple ('apple', 'banana', 'cherry').\n",
    "fruits = ('apple', 'banana', 'cherry')\n",
    "print(fruits[0])\n"
   ]
  },
  {
   "cell_type": "code",
   "execution_count": 43,
   "id": "ba0edd72-3d97-4a5c-8ba3-c15174afd659",
   "metadata": {},
   "outputs": [
    {
     "name": "stdout",
     "output_type": "stream",
     "text": [
      "3\n"
     ]
    }
   ],
   "source": [
    "#20. Write a code to count how many times the number 2 appears in the tuple (1, 2, 3, 2, 4, 2).\n",
    "numbers = (1, 2, 3, 2, 4, 2)\n",
    "print(numbers.count(2))\n"
   ]
  },
  {
   "cell_type": "code",
   "execution_count": 45,
   "id": "7dda4938-5477-4db5-a43e-0d81677acc58",
   "metadata": {},
   "outputs": [
    {
     "name": "stdout",
     "output_type": "stream",
     "text": [
      "1\n"
     ]
    }
   ],
   "source": [
    "#21. Write a code to find the index of the element \"cat\" in the tuple ('dog', 'cat', 'rabbit').\n",
    "animals = ('dog', 'cat', 'rabbit')\n",
    "print(animals.index('cat'))\n"
   ]
  },
  {
   "cell_type": "code",
   "execution_count": 47,
   "id": "3959d691-83b3-4ada-9ef8-207b966ffd6e",
   "metadata": {},
   "outputs": [
    {
     "name": "stdout",
     "output_type": "stream",
     "text": [
      "True\n"
     ]
    }
   ],
   "source": [
    "#22. Write a code to check if the element \"banana\" is in the tuple ('apple', 'orange', 'banana').\n",
    "fruits = ('apple', 'orange', 'banana')\n",
    "print(\"banana\" in fruits)\n"
   ]
  },
  {
   "cell_type": "code",
   "execution_count": 49,
   "id": "be60a486-fb55-4f53-9868-071150c88afe",
   "metadata": {},
   "outputs": [
    {
     "name": "stdout",
     "output_type": "stream",
     "text": [
      "{1, 2, 3, 4, 5}\n"
     ]
    }
   ],
   "source": [
    "#23. Write a code to create a set with the elements 1, 2, 3, 4, 5 and print it.\n",
    "my_set = {1, 2, 3, 4, 5}\n",
    "print(my_set)\n"
   ]
  },
  {
   "cell_type": "code",
   "execution_count": 51,
   "id": "ac5ede7a-92e8-418e-838a-f28a3c2d4a5f",
   "metadata": {},
   "outputs": [
    {
     "name": "stdout",
     "output_type": "stream",
     "text": [
      "{1, 2, 3, 4, 6}\n"
     ]
    }
   ],
   "source": [
    "#24. Write a code to add the element 6 to the set {1, 2, 3, 4}.\n",
    "my_set = {1, 2, 3, 4}\n",
    "my_set.add(6)\n",
    "print(my_set)\n"
   ]
  },
  {
   "cell_type": "code",
   "execution_count": null,
   "id": "5ddd64b3-46dd-45fb-8fb1-e2cec39455b2",
   "metadata": {},
   "outputs": [],
   "source": []
  }
 ],
 "metadata": {
  "kernelspec": {
   "display_name": "Python 3 (ipykernel)",
   "language": "python",
   "name": "python3"
  },
  "language_info": {
   "codemirror_mode": {
    "name": "ipython",
    "version": 3
   },
   "file_extension": ".py",
   "mimetype": "text/x-python",
   "name": "python",
   "nbconvert_exporter": "python",
   "pygments_lexer": "ipython3",
   "version": "3.12.4"
  }
 },
 "nbformat": 4,
 "nbformat_minor": 5
}
