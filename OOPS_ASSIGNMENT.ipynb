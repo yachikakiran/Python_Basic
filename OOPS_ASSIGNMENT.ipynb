{
 "cells": [
  {
   "cell_type": "code",
   "execution_count": null,
   "id": "7fb00335-beab-4733-ba0f-af4e5d4ee47f",
   "metadata": {},
   "outputs": [],
   "source": [
    "\"\"\" \n",
    "1. What is Object-Oriented Programming (OOP)?\n",
    "\n",
    "ans. OOP is a programming paradigm based on the concept of objects, which can contain data (attributes) and methods (functions). \n",
    "It emphasizes principles like encapsulation, inheritance, and polymorphism to create reusable and modular code.\n",
    "\n",
    "2. What is a class in OOP?\n",
    "\n",
    "ans. A class is a blueprint for creating objects. It defines attributes and methods that describe the behavior of objects instantiated from the class.\n",
    "\n",
    "3. What is an object in OOP?\n",
    "\n",
    "ans. An object is an instance of a class. It holds real data and can perform actions through methods defined in the class.\n",
    "\n",
    "4. What is the difference between abstraction and encapsulation?\n",
    "\n",
    "ans. Abstraction hides the complex implementation details and exposes only the necessary parts of an object.\n",
    "     Encapsulation binds data and methods together while restricting direct access to some details.\n",
    "     \n",
    "5. What are dunder methods in Python?\n",
    "\n",
    "ans. Dunder (double underscore) methods are special methods in Python \n",
    "that start and end with __, such as __init__, __str__, and __repr__. They allow customization of class behavior.\n",
    "\n",
    "6. Explain the concept of inheritance in OOP?\n",
    "\n",
    "ans. Inheritance allows a class (child) to inherit attributes and methods from another class (parent), enabling code reuse and hierarchy.\n",
    "\n",
    "7. What is polymorphism in OOP?\n",
    "\n",
    "ans. Polymorphism allows objects of different classes to be treated as objects of a common superclass. \n",
    "It enables different implementations of a method depending on the object type.\n",
    "\n",
    "8. How is encapsulation achieved in Python?\n",
    "\n",
    "ans. Encapsulation is achieved using private (__var) and protected (_var) attributes and providing getter and setter methods.\n",
    "\n",
    "9. What is a constructor in Python?\n",
    "\n",
    "ans. A constructor (__init__ method) is a special method in Python that initializes an object's attributes when an instance is created.\n",
    "\n",
    "10.What are class and static methods in Python?\n",
    "\n",
    "ans. Class methods (@classmethod) receive the class itself (cls) as an argument and can modify class attributes.\n",
    "Static methods (@staticmethod) do not receive the class or instance as an argument and act as independent utility functions inside the class\n",
    "\n",
    "11. What is method overloading in Python?\n",
    "\n",
    "ans.Python does not support traditional method overloading but allows default argument values or variable-length arguments (*args, **kwargs) to achieve similar behavior.\n",
    "\n",
    "12. What is method overriding in OOP?\n",
    "\n",
    "ans.Method overriding occurs when a child class provides a specific implementation of a method that is already defined in its parent class.\n",
    "\n",
    "13.What is a property decorator in Python?\n",
    "\n",
    "ans.The @property decorator allows a method to be accessed like an attribute, providing getter, setter, and deleter functionality.\n",
    "\n",
    "14.Why is polymorphism important in OOP?\n",
    "\n",
    "ans.It enhances flexibility and maintainability by allowing different objects to be treated uniformly while enabling different behaviors.\n",
    "\n",
    "15.What is an abstract class in Python?\n",
    "\n",
    "ans.An abstract class (using the ABC module) contains one or more abstract methods that must be implemented by subclasses.\n",
    "\n",
    "16. What are the advantages of OOP?\n",
    "\n",
    "ans. Code reusability through inheritance\n",
    "Improved modularity and maintainability\n",
    "Encapsulation for data security\n",
    "Polymorphism for flexibility in code\n",
    "\n",
    "17. What is the difference between a class variable and an instance variable?\n",
    "\n",
    "ans.Class variables are shared across all instances of the class.\n",
    "Instance variables are specific to each object.\n",
    "\n",
    "18. What is multiple inheritance in Python?\n",
    "\n",
    "ans.Multiple inheritance allows a class to inherit from more than one parent class.\n",
    "\n",
    "19.Explain the purpose of __str__ and __repr__ methods in Python?\n",
    "\n",
    "ans. __str__ is used for a human-readable string representation of an object.\n",
    "__repr__ is used for an unambiguous string representation useful for debugging.\n",
    "\n",
    "20. What is the significance of the super() function in Python?\n",
    "\n",
    "ans. super() is used to call methods from the parent class, enabling method overriding while maintaining access to the superclass.\n",
    "\n",
    "21. What is the significance of the __del__ method in Python?\n",
    "ans. __del__ is a destructor method that is called when an object is about to be destroyed, typically used for cleanup tasks.\n",
    "\n",
    "22. What is the difference between @staticmethod and @classmethod in Python?\n",
    "\n",
    "ans. @staticmethod does not access instance or class attributes.\n",
    "@classmethod receives the class (cls) as an argument and can modify class attributes.\n",
    "\n",
    "23.How does polymorphism work in Python with inheritance?\n",
    "\n",
    "ans.Polymorphism allows methods with the same name to have different implementations in child classes, making code more flexible.\n",
    "\n",
    "24.What is method chaining in Python OOP?\n",
    "\n",
    "ans.Method chaining allows multiple method calls on the same object in a single line by returning self in each method.\n",
    "\n",
    "25. What is the purpose of the __call__ method in Python?\n",
    "ans.The __call__ method allows an object to be called as a function, enabling objects to behave like functions.\n",
    "\"\"\""
   ]
  },
  {
   "cell_type": "code",
   "execution_count": 12,
   "id": "81677562-fe0d-4f8b-b922-428642644d68",
   "metadata": {},
   "outputs": [
    {
     "name": "stdout",
     "output_type": "stream",
     "text": [
      "Bark!\n"
     ]
    }
   ],
   "source": [
    "\"\"\"\n",
    "1. Create a parent class Animal with a method speak() that prints a generic message. Create a child class Dog\n",
    "that overrides the speak() method to print \"Bark!\".\"\"\"\n",
    "class Animal:\n",
    "    def speak(self):\n",
    "        print(\"Animal makes a sound\")\n",
    "\n",
    "class Dog(Animal):\n",
    "    def speak(self):\n",
    "        print(\"Bark!\")\n",
    "\n",
    "d = Dog()\n",
    "d.speak()\n"
   ]
  },
  {
   "cell_type": "code",
   "execution_count": 14,
   "id": "03bfa75a-3c6e-4bca-9daa-17f36fbbbb17",
   "metadata": {},
   "outputs": [
    {
     "name": "stdout",
     "output_type": "stream",
     "text": [
      "78.5\n",
      "24\n"
     ]
    }
   ],
   "source": [
    "\"\"\"\n",
    "2. Write a program to create an abstract class Shape with a method area(). Derive classes Circle and Rectangle\n",
    "from it and implement the area() method in both.\"\"\"\n",
    "from abc import ABC, abstractmethod\n",
    "\n",
    "class Shape(ABC):\n",
    "    @abstractmethod\n",
    "    def area(self):\n",
    "        pass\n",
    "\n",
    "class Circle(Shape):\n",
    "    def __init__(self, radius):\n",
    "        self.radius = radius\n",
    "    \n",
    "    def area(self):\n",
    "        return 3.14 * self.radius * self.radius\n",
    "\n",
    "class Rectangle(Shape):\n",
    "    def __init__(self, length, width):\n",
    "        self.length = length\n",
    "        self.width = width\n",
    "    \n",
    "    def area(self):\n",
    "        return self.length * self.width\n",
    "\n",
    "c = Circle(5)\n",
    "r = Rectangle(4, 6)\n",
    "print(c.area())\n",
    "print(r.area())\n",
    "\n"
   ]
  },
  {
   "cell_type": "code",
   "execution_count": 16,
   "id": "0555502b-92de-4fb9-9322-1c14f6c76f43",
   "metadata": {},
   "outputs": [
    {
     "name": "stdout",
     "output_type": "stream",
     "text": [
      "Electric Tesla 100 kWh\n"
     ]
    }
   ],
   "source": [
    "\"\"\"\n",
    "3. Implement a multi-level inheritance scenario where a class Vehicle has an attribute type. Derive a class Car\n",
    "and further derive a class ElectricCar that adds a battery attribute.\n",
    "\"\"\"\n",
    "class Vehicle:\n",
    "    def __init__(self, type):\n",
    "        self.type = type\n",
    "\n",
    "class Car(Vehicle):\n",
    "    def __init__(self, type, brand):\n",
    "        super().__init__(type)\n",
    "        self.brand = brand\n",
    "\n",
    "class ElectricCar(Car):\n",
    "    def __init__(self, type, brand, battery):\n",
    "        super().__init__(type, brand)\n",
    "        self.battery = battery\n",
    "\n",
    "ec = ElectricCar(\"Electric\", \"Tesla\", \"100 kWh\")\n",
    "print(ec.type, ec.brand, ec.battery)"
   ]
  },
  {
   "cell_type": "code",
   "execution_count": null,
   "id": "73b259c3-595e-41f5-b08d-d6a7f7b8d1aa",
   "metadata": {},
   "outputs": [],
   "source": [
    "\"\"\"\n",
    "4. Implement a multi-level inheritance scenario where a class Vehicle has an attribute type. Derive a class Car\n",
    "and further derive a class ElectricCar that adds a battery attribute.\"\"\"\n",
    "# same as question 3"
   ]
  },
  {
   "cell_type": "code",
   "execution_count": 18,
   "id": "0798e1f5-ee29-4921-a653-1a08fe7af062",
   "metadata": {},
   "outputs": [
    {
     "name": "stdout",
     "output_type": "stream",
     "text": [
      "7000\n"
     ]
    }
   ],
   "source": [
    "\"\"\"\n",
    "5. Write a program to demonstrate encapsulation by creating a class BankAccount with private attributes\n",
    "balance and methods to deposit, withdraw, and check balance.\"\"\"\n",
    "\n",
    "class BankAccount:\n",
    "    def __init__(self, balance):\n",
    "        self.__balance = balance\n",
    "    \n",
    "    def deposit(self, amount):\n",
    "        self.__balance += amount\n",
    "    \n",
    "    def withdraw(self, amount):\n",
    "        if amount <= self.__balance:\n",
    "            self.__balance -= amount\n",
    "        else:\n",
    "            print(\"Insufficient balance\")\n",
    "    \n",
    "    def get_balance(self):\n",
    "        return self.__balance\n",
    "\n",
    "account = BankAccount(5000)\n",
    "account.deposit(2000)\n",
    "print(account.get_balance())\n"
   ]
  },
  {
   "cell_type": "code",
   "execution_count": 20,
   "id": "d5aa7680-4191-4827-9f5d-0d86bbe763c8",
   "metadata": {},
   "outputs": [
    {
     "name": "stdout",
     "output_type": "stream",
     "text": [
      "Guitar is strumming\n"
     ]
    }
   ],
   "source": [
    "\"\"\"\n",
    "6. Demonstrate runtime polymorphism using a method play() in a base class Instrument. Derive classes Guitar\n",
    "and Piano that implement their own version of play().\n",
    "\"\"\"\n",
    "class Instrument:\n",
    "    def play(self):\n",
    "        print(\"Instrument is playing\")\n",
    "\n",
    "class Guitar(Instrument):\n",
    "    def play(self):\n",
    "        print(\"Guitar is strumming\")\n",
    "\n",
    "class Piano(Instrument):\n",
    "    def play(self):\n",
    "        print(\"Piano is playing melodies\")\n",
    "\n",
    "i = Guitar()\n",
    "i.play()"
   ]
  },
  {
   "cell_type": "code",
   "execution_count": 22,
   "id": "1495c6f8-1bd1-418e-b312-32b88172eb6a",
   "metadata": {},
   "outputs": [
    {
     "name": "stdout",
     "output_type": "stream",
     "text": [
      "8\n",
      "6\n"
     ]
    }
   ],
   "source": [
    "\"\"\"\n",
    "7. Create a class MathOperations with a class method add_numbers() to add two numbers and a static\n",
    "method subtract_numbers() to subtract two numbers.\"\"\"\n",
    "class MathOperations:\n",
    "    @classmethod\n",
    "    def add_numbers(cls, a, b):\n",
    "        return a + b\n",
    "\n",
    "    @staticmethod\n",
    "    def subtract_numbers(a, b):\n",
    "        return a - b\n",
    "\n",
    "print(MathOperations.add_numbers(5, 3))\n",
    "print(MathOperations.subtract_numbers(10, 4))\n"
   ]
  },
  {
   "cell_type": "code",
   "execution_count": 24,
   "id": "85082254-d2cf-4e77-8ba5-817274d32fa9",
   "metadata": {},
   "outputs": [
    {
     "name": "stdout",
     "output_type": "stream",
     "text": [
      "2\n"
     ]
    }
   ],
   "source": [
    "\"\"\"\n",
    "8. Implement a class Person with a class method to count the total number of persons created.\"\"\"\n",
    "class Person:\n",
    "    count = 0\n",
    "    \n",
    "    def __init__(self, name):\n",
    "        self.name = name\n",
    "        Person.count += 1\n",
    "    \n",
    "    @classmethod\n",
    "    def total_persons(cls):\n",
    "        return cls.count\n",
    "\n",
    "p1 = Person(\"John\")\n",
    "p2 = Person(\"Alice\")\n",
    "print(Person.total_persons())"
   ]
  },
  {
   "cell_type": "code",
   "execution_count": 26,
   "id": "020f17e1-f2e4-4253-bb52-766759a31d80",
   "metadata": {},
   "outputs": [
    {
     "name": "stdout",
     "output_type": "stream",
     "text": [
      "3/4\n"
     ]
    }
   ],
   "source": [
    "\"\"\"\n",
    "9. Write a class Fraction with attributes numerator and denominator. Override the str method to display the\n",
    "fraction as \"numerator/denominator\".\"\"\"\n",
    "\n",
    "class Fraction:\n",
    "    def __init__(self, numerator, denominator):\n",
    "        self.numerator = numerator\n",
    "        self.denominator = denominator\n",
    "    \n",
    "    def __str__(self):\n",
    "        return f\"{self.numerator}/{self.denominator}\"\n",
    "\n",
    "frac = Fraction(3, 4)\n",
    "print(frac)"
   ]
  },
  {
   "cell_type": "code",
   "execution_count": 28,
   "id": "ea551adc-bf6d-4d78-a7df-1c8bd3b3df87",
   "metadata": {},
   "outputs": [
    {
     "name": "stdout",
     "output_type": "stream",
     "text": [
      "Vector(3, 7)\n"
     ]
    }
   ],
   "source": [
    "\"\"\"\n",
    "10. Demonstrate operator overloading by creating a class Vector and overriding the add method to add two\n",
    "vectors.\"\"\"\n",
    "class Vector:\n",
    "    def __init__(self, x, y):\n",
    "        self.x = x\n",
    "        self.y = y\n",
    "    \n",
    "    def __add__(self, other):\n",
    "        return Vector(self.x + other.x, self.y + other.y)\n",
    "    \n",
    "    def __str__(self):\n",
    "        return f\"Vector({self.x}, {self.y})\"\n",
    "\n",
    "v1 = Vector(2, 3)\n",
    "v2 = Vector(1, 4)\n",
    "print(v1 + v2)"
   ]
  },
  {
   "cell_type": "code",
   "execution_count": 30,
   "id": "0616efcf-ceaa-459e-8a39-e3eb48039c6f",
   "metadata": {},
   "outputs": [
    {
     "name": "stdout",
     "output_type": "stream",
     "text": [
      "Hello, my name is John and I am 30 years old.\n"
     ]
    }
   ],
   "source": [
    "\"\"\"\n",
    "11. Create a class Person with attributes name and age. Add a method greet() that prints \"Hello, my name is\n",
    "{name} and I am {age} years old.\"\"\"\n",
    "class Person:\n",
    "    def __init__(self, name, age):\n",
    "        self.name = name\n",
    "        self.age = age\n",
    "    \n",
    "    def greet(self):\n",
    "        print(f\"Hello, my name is {self.name} and I am {self.age} years old.\")\n",
    "\n",
    "p = Person(\"John\", 30)\n",
    "p.greet()"
   ]
  },
  {
   "cell_type": "code",
   "execution_count": 32,
   "id": "455173c9-07a0-4139-a704-17de4a303e03",
   "metadata": {},
   "outputs": [
    {
     "name": "stdout",
     "output_type": "stream",
     "text": [
      "84.33333333333333\n"
     ]
    }
   ],
   "source": [
    "\"\"\"\n",
    "12. Implement a class Student with attributes name and grades. Create a method average_grade() to compute\n",
    "the average of the grades.\"\"\"\n",
    "class Student:\n",
    "    def __init__(self, name, grades):\n",
    "        self.name = name\n",
    "        self.grades = grades\n",
    "    \n",
    "    def average_grade(self):\n",
    "        return sum(self.grades) / len(self.grades)\n",
    "\n",
    "s = Student(\"Alice\", [85, 90, 78])\n",
    "print(s.average_grade())"
   ]
  },
  {
   "cell_type": "code",
   "execution_count": 34,
   "id": "35e2637d-9741-42c1-abe5-87e5d4cd1101",
   "metadata": {},
   "outputs": [
    {
     "name": "stdout",
     "output_type": "stream",
     "text": [
      "24\n"
     ]
    }
   ],
   "source": [
    "\"\"\"\n",
    "13. Create a class Rectangle with methods set_dimensions() to set the dimensions and area() to calculate the\n",
    "area.\"\"\"\n",
    "class Rectangle:\n",
    "    def set_dimensions(self, length, width):\n",
    "        self.length = length\n",
    "        self.width = width\n",
    "    \n",
    "    def area(self):\n",
    "        return self.length * self.width\n",
    "\n",
    "r = Rectangle()\n",
    "r.set_dimensions(4, 6)\n",
    "print(r.area())"
   ]
  },
  {
   "cell_type": "code",
   "execution_count": 36,
   "id": "65d52967-af84-40a7-9fd6-8925774d4c3e",
   "metadata": {},
   "outputs": [],
   "source": [
    "\"\"\"\n",
    "14. Create a class Employee with a method calculate_salary() that computes the salary based on hours worked\n",
    "and hourly rate. Create a derived class Manager that adds a bonus to the salary.\"\"\"\n",
    "class Employee:\n",
    "    def __init__(self, hours_worked, hourly_rate):\n",
    "        self.hours_worked = hours_worked\n",
    "        self.hourly_rate = hourly_rate\n",
    "    \n",
    "    def calculate_salary(self):\n",
    "        return self.hours_worked * self.hourly_rate\n",
    "\n",
    "class Manager(Employee):\n",
    "    def __init__(self, hours_worked, hourly_rate, bonus):\n",
    "        super().__init__(hours_worked, hourly_rate)\n",
    "        self.bonus = bonus\n",
    "    \n",
    "    def calculate_salary(self):\n",
    "        return super().calculate_salary() + self.bonus\n"
   ]
  },
  {
   "cell_type": "code",
   "execution_count": 38,
   "id": "7e42b2ac-96cb-4060-bfd1-58e6cefdfdd2",
   "metadata": {},
   "outputs": [
    {
     "name": "stdout",
     "output_type": "stream",
     "text": [
      "2000\n"
     ]
    }
   ],
   "source": [
    "\"\"\"\n",
    "15. Create a class Product with attributes name, price, and quantity. Implement a method total_price() that\n",
    "calculates the total price of the product.\n",
    "\"\"\"\n",
    "\n",
    "class Product:\n",
    "    def __init__(self, name, price, quantity):\n",
    "        self.name = name\n",
    "        self.price = price\n",
    "        self.quantity = quantity\n",
    "    \n",
    "    def total_price(self):\n",
    "        return self.price * self.quantity\n",
    "\n",
    "p = Product(\"Laptop\", 1000, 2)\n",
    "print(p.total_price())"
   ]
  },
  {
   "cell_type": "code",
   "execution_count": 46,
   "id": "01b88136-efb7-4e3f-ae40-8dd37ca9ba43",
   "metadata": {},
   "outputs": [],
   "source": [
    "\"\"\"\n",
    "16. Create a class Animal with an abstract method sound(). Create two derived classes Cow and Sheep that\n",
    "implement the sound() method.\"\"\"\n",
    "class Animal(ABC):\n",
    "    @abstractmethod\n",
    "    def sound(self):\n",
    "        pass\n",
    "\n",
    "class Cow(Animal):\n",
    "    def sound(self):\n",
    "        print(\"Moo\")\n",
    "\n",
    "class Sheep(Animal):\n",
    "    def sound(self):\n",
    "        print(\"Baa\")\n",
    "\n",
    "c = Cow()"
   ]
  },
  {
   "cell_type": "code",
   "execution_count": 44,
   "id": "102f2c38-4541-4f2a-a05a-93979cdb85f1",
   "metadata": {},
   "outputs": [
    {
     "name": "stdout",
     "output_type": "stream",
     "text": [
      "1984 by George Orwell, published in 1949\n"
     ]
    }
   ],
   "source": [
    "\"\"\"\n",
    "17. Create a class Book with attributes title, author, and year_published. Add a method get_book_info() that\n",
    "returns a formatted string with the book's details.\"\"\"\n",
    "class Book:\n",
    "    def __init__(self, title, author, year_published):\n",
    "        self.title = title\n",
    "        self.author = author\n",
    "        self.year_published = year_published\n",
    "    \n",
    "    def get_book_info(self):\n",
    "        return f\"{self.title} by {self.author}, published in {self.year_published}\"\n",
    "\n",
    "b = Book(\"1984\", \"George Orwell\", 1949)\n",
    "print(b.get_book_info())"
   ]
  },
  {
   "cell_type": "code",
   "execution_count": 48,
   "id": "fe35a8a9-2573-461a-a1d5-c6250b49a6c8",
   "metadata": {},
   "outputs": [
    {
     "name": "stdout",
     "output_type": "stream",
     "text": [
      "123 Luxury St 5000000 10\n"
     ]
    }
   ],
   "source": [
    "\"\"\"\n",
    "18. Create a class House with attributes address and price. Create a derived class Mansion that adds an\n",
    "attribute number_of_rooms.\"\"\"\n",
    "class House:\n",
    "    def __init__(self, address, price):\n",
    "        self.address = address\n",
    "        self.price = price\n",
    "\n",
    "class Mansion(House):\n",
    "    def __init__(self, address, price, number_of_rooms):\n",
    "        super().__init__(address, price)\n",
    "        self.number_of_rooms = number_of_rooms\n",
    "\n",
    "m = Mansion(\"123 Luxury St\", 5000000, 10)\n",
    "print(m.address, m.price, m.number_of_rooms)"
   ]
  },
  {
   "cell_type": "code",
   "execution_count": null,
   "id": "1dacc226-04af-4462-8587-383caf5c0879",
   "metadata": {},
   "outputs": [],
   "source": []
  }
 ],
 "metadata": {
  "kernelspec": {
   "display_name": "Python 3 (ipykernel)",
   "language": "python",
   "name": "python3"
  },
  "language_info": {
   "codemirror_mode": {
    "name": "ipython",
    "version": 3
   },
   "file_extension": ".py",
   "mimetype": "text/x-python",
   "name": "python",
   "nbconvert_exporter": "python",
   "pygments_lexer": "ipython3",
   "version": "3.12.4"
  }
 },
 "nbformat": 4,
 "nbformat_minor": 5
}
