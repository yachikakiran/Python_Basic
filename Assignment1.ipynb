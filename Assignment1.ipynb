{
 "cells": [
  {
   "cell_type": "code",
   "execution_count": null,
   "id": "7d7803a7-f28a-4f42-8b3d-078773ed1a2f",
   "metadata": {},
   "outputs": [],
   "source": [
    "\"\"\"1. What is Python, and why is it popular\n",
    "\n",
    "ans. Python is a programming language known for its simplicity and readability. It’s popular because:\n",
    "  * It’s easy to learn.\n",
    "  * It has a lot of built-in libraries for different purposes (e.g., web development, data analysis).\n",
    "  * It works across different platforms.\n",
    "  \n",
    "2. What is an interpreter in Python\u001a\n",
    "\n",
    "ans. * An interpreter is a program that runs Python code line by line. \n",
    "     * It allows you to write and test your code quickly, without needing to compile it.\n",
    "     \n",
    "3. What are pre-defined keywords in Python\u001a\n",
    "\n",
    "ans. Keywords are reserved words in Python with special meanings, like if, for, True, False, etc. You can’t use them as variable names.\n",
    "\n",
    "4. Can keywords be used as variable names\u001a\n",
    "\n",
    "ans. No, keywords cannot be used as variable names because they are reserved for specific functions in Python.\n",
    "\n",
    "5. What is mutability in Python\u001a\n",
    "\n",
    "ans. Mutability refers to whether an object can be changed after it’s created.\n",
    "\n",
    "     * Mutable: Can be changed (e.g., lists).\n",
    "    * Immutable: Cannot be changed (e.g., strings, tuples).\n",
    "    \n",
    "6. Why are lists mutable, but tuples are immutable\u001a\n",
    "\n",
    "ans. Lists: You can modify the contents (add, remove, or update items).\n",
    "     Tuples: Are designed to be fixed collections of data, so you cannot change their contents after creation.\n",
    "     \n",
    "7. What is the difference between “==” and “is” operators in Python\u001a\n",
    "\n",
    "ans. \"==\" checks if two values are equal.\n",
    "    \"is\" checks if two variables refer to the same memory location (identity operator).\n",
    "\n",
    "8. What are logical operators in Python\u001a\n",
    "\n",
    "ans. Logical operators help you combine conditions:\n",
    "     * and: True if both conditions are true.\n",
    "    * or: True if at least one condition is true.\n",
    "    * not: Reverses the condition (True becomes False).\n",
    "\n",
    "9. What is type casting in Python\u001a\n",
    "\n",
    "ans. Type casting is converting one data type to another. For example:\n",
    "\n",
    "    int(\"5\") convert string as integer.\n",
    "    \n",
    "10. What is the difference between implicit and explicit type casting\u001a\n",
    "\n",
    "ans. Implicit: Python automatically converts the type.\n",
    "     Example: Adding an integer and a float automatically gives a float.\n",
    "     Explicit: You manually convert the type using functions like int(), str().\n",
    "\n",
    "11. What is the purpose of conditional statements in Python\u001a\n",
    "\n",
    "ans. Conditional statements like if, else, and elif allow your program to make decisions based on conditions.\n",
    "\n",
    "12. How does the elif statement work\u001a\n",
    "\n",
    "ans. elif means “else if.” It checks another condition if the previous if condition was False.\n",
    "Example:\n",
    "if x > 10:\n",
    "    print(\"x is greater than 10\")\n",
    "elif x == 10:\n",
    "    print(\"x is equal to 10\")\n",
    "else:\n",
    "    print(\"x is less than 10\")\n",
    "\n",
    "13. What is the difference between for and while loops\u001a\n",
    "\n",
    "ans. * for loop: Used when you know how many times you need to repeat something.\n",
    "     * while loop: Used when you keep repeating until a condition becomes False.\n",
    "\n",
    "14. Describe a scenario where a while loop is more suitable than a for loop?\n",
    "\n",
    "ans. When the number of repetitions isn’t fixed, like reading input until the user enters \"stop.\"\"\"\""
   ]
  },
  {
   "cell_type": "code",
   "execution_count": 1,
   "id": "6def3e8f-2a63-423f-8041-b7cdb3110246",
   "metadata": {},
   "outputs": [
    {
     "name": "stdout",
     "output_type": "stream",
     "text": [
      "Hello, World!\n"
     ]
    }
   ],
   "source": [
    "#1. Write a Python program to print \"Hello, World!\n",
    "print(\"Hello, World!\")\n"
   ]
  },
  {
   "cell_type": "code",
   "execution_count": 5,
   "id": "5a4386f6-f6e6-48f3-b9ba-aa02014a67ad",
   "metadata": {},
   "outputs": [
    {
     "name": "stdout",
     "output_type": "stream",
     "text": [
      "My name is Kiran Sharma and I am 21 years old.\n"
     ]
    }
   ],
   "source": [
    "#2. Write a Python program that displays your name and age\n",
    "name = \"Kiran Sharma\"\n",
    "age = 21\n",
    "print(f\"My name is {name} and I am {age} years old.\")\n"
   ]
  },
  {
   "cell_type": "code",
   "execution_count": 7,
   "id": "ea04905d-0daa-429b-82e4-dfe9d47cc44d",
   "metadata": {},
   "outputs": [
    {
     "name": "stdout",
     "output_type": "stream",
     "text": [
      "Python Keywords: ['False', 'None', 'True', 'and', 'as', 'assert', 'async', 'await', 'break', 'class', 'continue', 'def', 'del', 'elif', 'else', 'except', 'finally', 'for', 'from', 'global', 'if', 'import', 'in', 'is', 'lambda', 'nonlocal', 'not', 'or', 'pass', 'raise', 'return', 'try', 'while', 'with', 'yield']\n"
     ]
    }
   ],
   "source": [
    "#3. Write code to print all the pre-defined keywords in Python using the keyword library\n",
    "import keyword\n",
    "print(\"Python Keywords:\", keyword.kwlist)\n"
   ]
  },
  {
   "cell_type": "code",
   "execution_count": 11,
   "id": "274a9500-ff05-4b44-be6f-0991ab6e2346",
   "metadata": {},
   "outputs": [
    {
     "name": "stdin",
     "output_type": "stream",
     "text": [
      "Enter a word:  False\n"
     ]
    },
    {
     "name": "stdout",
     "output_type": "stream",
     "text": [
      "False is a Python keyword.\n"
     ]
    }
   ],
   "source": [
    "#4. Write a program that checks if a given word is a Python keyword\n",
    "import keyword\n",
    "word = input(\"Enter a word: \")\n",
    "if keyword.iskeyword(word):\n",
    "    print(f\"{word} is a Python keyword.\")\n",
    "else:\n",
    "    print(f\"{word} is not a Python keyword.\")\n"
   ]
  },
  {
   "cell_type": "code",
   "execution_count": 13,
   "id": "d22846bf-d8c6-4b54-8eb0-ad520411a94b",
   "metadata": {},
   "outputs": [
    {
     "name": "stdout",
     "output_type": "stream",
     "text": [
      "Modified List: [10, 2, 3]\n",
      "Cannot modify a tuple: (1, 2, 3)\n"
     ]
    }
   ],
   "source": [
    "#5.  Create a list and tuple in Python, and demonstrate how attempting to change an element works differently\n",
    "#  for each \n",
    "\n",
    "# List (mutable)\n",
    "my_list = [1, 2, 3]\n",
    "my_list[0] = 10\n",
    "print(\"Modified List:\", my_list)\n",
    "\n",
    "# Tuple (immutable)\n",
    "my_tuple = (1, 2, 3)\n",
    "try:\n",
    "    my_tuple[0] = 10\n",
    "except TypeError:\n",
    "    print(\"Cannot modify a tuple:\", my_tuple)\n"
   ]
  },
  {
   "cell_type": "code",
   "execution_count": 15,
   "id": "ecdb716c-1a9a-4530-b522-c83bdc76d740",
   "metadata": {},
   "outputs": [
    {
     "name": "stdout",
     "output_type": "stream",
     "text": [
      "Inside function - Mutable: [1, 2, 3, 4]\n",
      "Inside function - Immutable: 6\n",
      "Outside function - Mutable: [1, 2, 3, 4]\n",
      "Outside function - Immutable: 5\n"
     ]
    }
   ],
   "source": [
    "#6. Write a function to demonstrate the behavior of mutable and immutable arguments\n",
    "def modify_values(mutable, immutable):\n",
    "    mutable.append(4)\n",
    "    immutable += 1\n",
    "    print(\"Inside function - Mutable:\", mutable)\n",
    "    print(\"Inside function - Immutable:\", immutable)\n",
    "\n",
    "my_list = [1, 2, 3]\n",
    "my_int = 5\n",
    "modify_values(my_list, my_int)\n",
    "print(\"Outside function - Mutable:\", my_list)\n",
    "print(\"Outside function - Immutable:\", my_int)\n"
   ]
  },
  {
   "cell_type": "code",
   "execution_count": 17,
   "id": "527ec866-155b-4e65-9e19-523d7e9eb5cf",
   "metadata": {},
   "outputs": [
    {
     "name": "stdout",
     "output_type": "stream",
     "text": [
      "Inside function - Mutable: [1, 2, 3, 4]\n",
      "Inside function - Immutable: 6\n",
      "Outside function - Mutable: [1, 2, 3, 4]\n",
      "Outside function - Immutable: 5\n"
     ]
    }
   ],
   "source": [
    "#7. Write a function to demonstrate the behavior of mutable and immutable arguments\n",
    "def modify_values(mutable, immutable):\n",
    "    mutable.append(4)\n",
    "    immutable += 1\n",
    "    print(\"Inside function - Mutable:\", mutable)\n",
    "    print(\"Inside function - Immutable:\", immutable)\n",
    "\n",
    "my_list = [1, 2, 3]\n",
    "my_int = 5\n",
    "modify_values(my_list, my_int)\n",
    "print(\"Outside function - Mutable:\", my_list)\n",
    "print(\"Outside function - Immutable:\", my_int)"
   ]
  },
  {
   "cell_type": "code",
   "execution_count": 19,
   "id": "ab72cc40-4ab2-4928-8127-f0075e2a0143",
   "metadata": {},
   "outputs": [
    {
     "name": "stdout",
     "output_type": "stream",
     "text": [
      "x > 5 and y > 15: True\n",
      "x > 15 or y > 15: True\n",
      "not(x > 15): True\n"
     ]
    }
   ],
   "source": [
    "#8. Write a program to demonstrate the use of logical operators\n",
    "x = 10\n",
    "y = 20\n",
    "print(\"x > 5 and y > 15:\", x > 5 and y > 15)\n",
    "print(\"x > 15 or y > 15:\", x > 15 or y > 15)\n",
    "print(\"not(x > 15):\", not(x > 15))\n"
   ]
  },
  {
   "cell_type": "code",
   "execution_count": 23,
   "id": "96c81c8b-9043-43fd-a228-997328e0de19",
   "metadata": {},
   "outputs": [
    {
     "name": "stdin",
     "output_type": "stream",
     "text": [
      "Enter a value:  1\n"
     ]
    },
    {
     "name": "stdout",
     "output_type": "stream",
     "text": [
      "Integer: 1\n",
      "Float: 1.0\n",
      "Boolean: True\n"
     ]
    }
   ],
   "source": [
    "#9. Write a Python program to convert user input from string to integer, float, and boolean types\n",
    "user_input = input(\"Enter a value: \")\n",
    "int_value = int(user_input)\n",
    "float_value = float(user_input)\n",
    "bool_value = bool(user_input)\n",
    "print(\"Integer:\", int_value)\n",
    "print(\"Float:\", float_value)\n",
    "print(\"Boolean:\", bool_value)\n"
   ]
  },
  {
   "cell_type": "code",
   "execution_count": 25,
   "id": "40d54f74-ee3c-43ed-a3d1-34389421e3b8",
   "metadata": {},
   "outputs": [
    {
     "name": "stdout",
     "output_type": "stream",
     "text": [
      "Original list: ['1', '2', '3']\n",
      "Converted list: [1, 2, 3]\n"
     ]
    }
   ],
   "source": [
    "#10.Write code to demonstrate type casting with list elements\n",
    "str_list = [\"1\", \"2\", \"3\"]\n",
    "int_list = [int(x) for x in str_list]\n",
    "print(\"Original list:\", str_list)\n",
    "print(\"Converted list:\", int_list)\n"
   ]
  },
  {
   "cell_type": "code",
   "execution_count": 29,
   "id": "d1d94d3b-52ce-49b8-b688-44eab7de2f29",
   "metadata": {},
   "outputs": [
    {
     "name": "stdin",
     "output_type": "stream",
     "text": [
      "Enter a number:  12\n"
     ]
    },
    {
     "name": "stdout",
     "output_type": "stream",
     "text": [
      "The number is positive.\n"
     ]
    }
   ],
   "source": [
    "#11. Write a program that checks if a number is positive, negative, or zero\n",
    "num = int(input(\"Enter a number: \"))\n",
    "if num > 0:\n",
    "    print(\"The number is positive.\")\n",
    "elif num < 0:\n",
    "    print(\"The number is negative.\")\n",
    "else:\n",
    "    print(\"The number is zero.\")\n"
   ]
  },
  {
   "cell_type": "code",
   "execution_count": 33,
   "id": "a0ca656e-f689-4ba5-b3c1-d364afa96c8a",
   "metadata": {},
   "outputs": [
    {
     "name": "stdout",
     "output_type": "stream",
     "text": [
      "1\n",
      "2\n",
      "3\n",
      "4\n",
      "5\n",
      "6\n",
      "7\n",
      "8\n",
      "9\n",
      "10\n"
     ]
    }
   ],
   "source": [
    "#12. Write a for loop to print numbers from 1 to 10\n",
    "for i in range(1, 11):\n",
    "    print(i)\n"
   ]
  },
  {
   "cell_type": "code",
   "execution_count": 39,
   "id": "4e74a917-abc8-4919-b40a-ece46f5635c4",
   "metadata": {},
   "outputs": [
    {
     "name": "stdout",
     "output_type": "stream",
     "text": [
      "Sum of even numbers from 1 to 50: 650\n"
     ]
    }
   ],
   "source": [
    "#13. Write a Python program to find the sum of all even numbers between 1 and 50\n",
    "even_sum = sum(i for i in range(1, 51) if i % 2 == 0)\n",
    "print(\"Sum of even numbers from 1 to 50:\", even_sum)"
   ]
  },
  {
   "cell_type": "code",
   "execution_count": 41,
   "id": "ecd57bd3-6ff3-4e68-a2ab-621a703dde1d",
   "metadata": {},
   "outputs": [
    {
     "name": "stdin",
     "output_type": "stream",
     "text": [
      "Enter a string:  kiran\n"
     ]
    },
    {
     "name": "stdout",
     "output_type": "stream",
     "text": [
      "Reversed string: narik\n"
     ]
    }
   ],
   "source": [
    "#14. Write a program to reverse a string using a while loop\n",
    "text = input(\"Enter a string: \")\n",
    "reversed_text = \"\"\n",
    "i = len(text) - 1\n",
    "while i >= 0:\n",
    "    reversed_text += text[i]\n",
    "    i -= 1\n",
    "print(\"Reversed string:\", reversed_text)\n"
   ]
  },
  {
   "cell_type": "code",
   "execution_count": 43,
   "id": "3ef9d9f8-b247-4932-98fc-8bd8db014c95",
   "metadata": {},
   "outputs": [
    {
     "name": "stdin",
     "output_type": "stream",
     "text": [
      "Enter a number:  6\n"
     ]
    },
    {
     "name": "stdout",
     "output_type": "stream",
     "text": [
      "The factorial of 6 is 720.\n"
     ]
    }
   ],
   "source": [
    "#15. Write a Python program to calculate the factorial of a number provided by the user using a while loop.\n",
    "num = int(input(\"Enter a number: \"))\n",
    "factorial = 1\n",
    "i = num\n",
    "while i > 0:\n",
    "    factorial *= i\n",
    "    i -= 1\n",
    "print(f\"The factorial of {num} is {factorial}.\")\n"
   ]
  },
  {
   "cell_type": "code",
   "execution_count": null,
   "id": "960d237d-29e6-4463-8193-34260523f76a",
   "metadata": {},
   "outputs": [],
   "source": []
  }
 ],
 "metadata": {
  "kernelspec": {
   "display_name": "Python 3 (ipykernel)",
   "language": "python",
   "name": "python3"
  },
  "language_info": {
   "codemirror_mode": {
    "name": "ipython",
    "version": 3
   },
   "file_extension": ".py",
   "mimetype": "text/x-python",
   "name": "python",
   "nbconvert_exporter": "python",
   "pygments_lexer": "ipython3",
   "version": "3.12.4"
  }
 },
 "nbformat": 4,
 "nbformat_minor": 5
}
